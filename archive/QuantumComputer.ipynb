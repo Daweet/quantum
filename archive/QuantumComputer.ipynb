{
 "cells": [
  {
   "cell_type": "markdown",
   "metadata": {},
   "source": [
    "# Simulating a Quantum Computer in Python"
   ]
  },
  {
   "cell_type": "code",
   "execution_count": 2,
   "metadata": {
    "collapsed": false
   },
   "outputs": [],
   "source": [
    "import numpy as np\n",
    "import numpy.linalg as lg\n",
    "import numpy.random as random"
   ]
  },
  {
   "cell_type": "code",
   "execution_count": 3,
   "metadata": {
    "collapsed": false
   },
   "outputs": [],
   "source": [
    "N_qubits = 3\n",
    "N_states = 2**N_qubits"
   ]
  },
  {
   "cell_type": "markdown",
   "metadata": {},
   "source": [
    "Create a quantum register"
   ]
  },
  {
   "cell_type": "code",
   "execution_count": 4,
   "metadata": {
    "collapsed": false
   },
   "outputs": [],
   "source": [
    "def empty_register():\n",
    "    return np.zeros((N_states), dtype=complex)"
   ]
  },
  {
   "cell_type": "code",
   "execution_count": 5,
   "metadata": {
    "collapsed": false
   },
   "outputs": [
    {
     "data": {
      "text/plain": [
       "array([ 0.+0.j,  0.+0.j,  0.+0.j,  0.+0.j,  0.+0.j,  0.+0.j,  0.+0.j,\n",
       "        0.+0.j])"
      ]
     },
     "execution_count": 5,
     "metadata": {},
     "output_type": "execute_result"
    }
   ],
   "source": [
    "register = empty_register()\n",
    "register"
   ]
  },
  {
   "cell_type": "markdown",
   "metadata": {},
   "source": [
    "$\\newcommand{\\ket}[1]{\\left|{#1}\\right\\rangle}\\newcommand{\\bra}[1]{\\left\\langle{#1}\\right|}$\n",
    "The states of our 3-qubit quantum register are $\\ket{000}$, $\\ket{001}$, $\\ket{010}$, ..., which we will address as state 0, 1,  2, ...\n",
    "\n",
    "We define two helper functions. The first one checks if a certain qubit is set to $1$ in a state. The second one flips a target qubit from $0$ to $1$ or from $1$ to $0$. In the $\\ket{011}$ notation, the 0-th qubit is the leftmost one, the $N_{qubit}-1$-th qubit is the rightmost one."
   ]
  },
  {
   "cell_type": "code",
   "execution_count": 6,
   "metadata": {
    "collapsed": false
   },
   "outputs": [],
   "source": [
    "def isset(state, n):\n",
    "\treturn state & 1<<(N_qubits-1-n) != 0\n",
    "\n",
    "def flip(state, n):\n",
    "\treturn state ^ 1<<(N_qubits-1-n)"
   ]
  },
  {
   "cell_type": "code",
   "execution_count": 7,
   "metadata": {
    "collapsed": false
   },
   "outputs": [
    {
     "name": "stdout",
     "output_type": "stream",
     "text": [
      "0b1\n"
     ]
    },
    {
     "data": {
      "text/plain": [
       "True"
      ]
     },
     "execution_count": 7,
     "metadata": {},
     "output_type": "execute_result"
    }
   ],
   "source": [
    "print bin(1)\n",
    "isset(1,2)"
   ]
  },
  {
   "cell_type": "code",
   "execution_count": 8,
   "metadata": {
    "collapsed": false
   },
   "outputs": [
    {
     "data": {
      "text/plain": [
       "True"
      ]
     },
     "execution_count": 8,
     "metadata": {},
     "output_type": "execute_result"
    }
   ],
   "source": [
    "isset(flip(8,2),2)"
   ]
  },
  {
   "cell_type": "code",
   "execution_count": 9,
   "metadata": {
    "collapsed": false
   },
   "outputs": [],
   "source": [
    "def measure(register):\n",
    "\tregister = np.absolute(register)**2\n",
    "\treturn random.choice(len(register), p=register.flatten())"
   ]
  },
  {
   "cell_type": "code",
   "execution_count": 22,
   "metadata": {
    "collapsed": false
   },
   "outputs": [],
   "source": [
    "def hadamar(register):\n",
    "\tH_2x2 = np.array([[1,1],[1,-1]]) / np.sqrt(2)\n",
    "\tH = np.array([[1,1],[1,-1]]) / np.sqrt(2)\n",
    "\tfor i in range(N_qubits-1):\n",
    "\t\tH = np.kron(H,H_2x2)\n",
    "\tprint H\n",
    "\treturn H.dot(register)"
   ]
  },
  {
   "cell_type": "code",
   "execution_count": 11,
   "metadata": {
    "collapsed": false
   },
   "outputs": [],
   "source": [
    "def cnot(register, control, target):\n",
    "\tCNOT = np.zeros((N_states, N_states))\n",
    "\tfor state in range(N_states):\n",
    "\t\tif isset(state, control): # control state set to 1\n",
    "\t\t\ttarget_state = flip(state, target) # flip target bit\n",
    "\t\telse:\n",
    "\t\t\ttarget_state = state\n",
    "\t\tCNOT[target_state, state] = 1\n",
    "\treturn CNOT.dot(register)"
   ]
  },
  {
   "cell_type": "code",
   "execution_count": 12,
   "metadata": {
    "collapsed": false
   },
   "outputs": [],
   "source": [
    "def pauli_x(register, target):\n",
    "\tfor state in range(N_states):\n",
    "\t\tif isset(state, target):\n",
    "\t\t\tconjugated_state = flip(state, target)\n",
    "\t\t\ttmp = register[state]\n",
    "\t\t\tregister[state] = register[conjugated_state]\n",
    "\t\t\tregister[conjugated_state] = tmp\n",
    "\treturn register"
   ]
  },
  {
   "cell_type": "code",
   "execution_count": 13,
   "metadata": {
    "collapsed": false
   },
   "outputs": [],
   "source": [
    "def pauli_y(register, target):\n",
    "\tfor state in range(N_states):\n",
    "\t\tif isset(state, target):\n",
    "\t\t\tconjugated_state = flip(state, target)\n",
    "\t\t\ttmp = register[state]\n",
    "\t\t\tregister[state] = -1j * register[conjugated_state]\n",
    "\t\t\tregister[conjugated_state] = 1j * tmp\n",
    "\treturn register"
   ]
  },
  {
   "cell_type": "code",
   "execution_count": 14,
   "metadata": {
    "collapsed": false
   },
   "outputs": [],
   "source": [
    "def pauli_z(register, target):\n",
    "\tfor state in range(N_states):\n",
    "\t\tif isset(state, target):\n",
    "\t\t\tregister[state] = -1 * register[state]\n",
    "\treturn register"
   ]
  },
  {
   "cell_type": "code",
   "execution_count": 15,
   "metadata": {
    "collapsed": false
   },
   "outputs": [],
   "source": [
    "def phase_shift(register, target, phase):\n",
    "\tfor state in range(N_states):\n",
    "\t\tif isset(state, target):\n",
    "\t\t\tregister[state] = np.exp(-1j*phase) * register[state]\n",
    "\treturn register"
   ]
  },
  {
   "cell_type": "code",
   "execution_count": 16,
   "metadata": {
    "collapsed": false
   },
   "outputs": [],
   "source": [
    "def phase(register, target):\n",
    "\tfor state in range(N_states):\n",
    "\t\tif isset(state, target):\n",
    "\t\t\tregister[state] = 1j * register[state]\n",
    "\treturn register"
   ]
  },
  {
   "cell_type": "code",
   "execution_count": null,
   "metadata": {
    "collapsed": true
   },
   "outputs": [],
   "source": []
  },
  {
   "cell_type": "markdown",
   "metadata": {},
   "source": [
    "## Groover Algorithm"
   ]
  },
  {
   "cell_type": "code",
   "execution_count": 17,
   "metadata": {
    "collapsed": false
   },
   "outputs": [],
   "source": [
    "def conditional_phase_shift(register):\n",
    "\tfor state in range(1,N_states):\n",
    "\t\tregister[state] = -1 * register[state]\n",
    "\treturn register"
   ]
  },
  {
   "cell_type": "markdown",
   "metadata": {},
   "source": [
    "The oracle function is a unitary transformation which shifts the specific of the seeked state by 2π. Applying the oracle to a register with equally distributed real and positive amplitudes will therefore switch the sign of one of the states. Note that the specific probabilities of the states do not change since they are related to the squared amplitues."
   ]
  },
  {
   "cell_type": "code",
   "execution_count": 18,
   "metadata": {
    "collapsed": false
   },
   "outputs": [],
   "source": [
    "def oracle(register):\n",
    "\tcorrect_state = 5\n",
    "\tregister[correct_state] = -1 * register[correct_state]\n",
    "\treturn register"
   ]
  },
  {
   "cell_type": "code",
   "execution_count": 23,
   "metadata": {
    "collapsed": false
   },
   "outputs": [
    {
     "name": "stdout",
     "output_type": "stream",
     "text": [
      "Initializing ground state\n",
      "[ 1.+0.j  0.+0.j  0.+0.j  0.+0.j  0.+0.j  0.+0.j  0.+0.j  0.+0.j]\n",
      "Hadamar transformation\n",
      "[[ 0.35355339  0.35355339  0.35355339  0.35355339  0.35355339  0.35355339\n",
      "   0.35355339  0.35355339]\n",
      " [ 0.35355339 -0.35355339  0.35355339 -0.35355339  0.35355339 -0.35355339\n",
      "   0.35355339 -0.35355339]\n",
      " [ 0.35355339  0.35355339 -0.35355339 -0.35355339  0.35355339  0.35355339\n",
      "  -0.35355339 -0.35355339]\n",
      " [ 0.35355339 -0.35355339 -0.35355339  0.35355339  0.35355339 -0.35355339\n",
      "  -0.35355339  0.35355339]\n",
      " [ 0.35355339  0.35355339  0.35355339  0.35355339 -0.35355339 -0.35355339\n",
      "  -0.35355339 -0.35355339]\n",
      " [ 0.35355339 -0.35355339  0.35355339 -0.35355339 -0.35355339  0.35355339\n",
      "  -0.35355339  0.35355339]\n",
      " [ 0.35355339  0.35355339 -0.35355339 -0.35355339 -0.35355339 -0.35355339\n",
      "   0.35355339  0.35355339]\n",
      " [ 0.35355339 -0.35355339 -0.35355339  0.35355339 -0.35355339  0.35355339\n",
      "   0.35355339 -0.35355339]]\n",
      "[ 0.35355339+0.j  0.35355339+0.j  0.35355339+0.j  0.35355339+0.j\n",
      "  0.35355339+0.j  0.35355339+0.j  0.35355339+0.j  0.35355339+0.j]\n",
      "Grover iteration cycles 2.22144146908\n",
      "Iteration 0\n",
      "Oracle application\n",
      "Diffusion transform\n",
      "[[ 0.35355339  0.35355339  0.35355339  0.35355339  0.35355339  0.35355339\n",
      "   0.35355339  0.35355339]\n",
      " [ 0.35355339 -0.35355339  0.35355339 -0.35355339  0.35355339 -0.35355339\n",
      "   0.35355339 -0.35355339]\n",
      " [ 0.35355339  0.35355339 -0.35355339 -0.35355339  0.35355339  0.35355339\n",
      "  -0.35355339 -0.35355339]\n",
      " [ 0.35355339 -0.35355339 -0.35355339  0.35355339  0.35355339 -0.35355339\n",
      "  -0.35355339  0.35355339]\n",
      " [ 0.35355339  0.35355339  0.35355339  0.35355339 -0.35355339 -0.35355339\n",
      "  -0.35355339 -0.35355339]\n",
      " [ 0.35355339 -0.35355339  0.35355339 -0.35355339 -0.35355339  0.35355339\n",
      "  -0.35355339  0.35355339]\n",
      " [ 0.35355339  0.35355339 -0.35355339 -0.35355339 -0.35355339 -0.35355339\n",
      "   0.35355339  0.35355339]\n",
      " [ 0.35355339 -0.35355339 -0.35355339  0.35355339 -0.35355339  0.35355339\n",
      "   0.35355339 -0.35355339]]\n",
      "[[ 0.35355339  0.35355339  0.35355339  0.35355339  0.35355339  0.35355339\n",
      "   0.35355339  0.35355339]\n",
      " [ 0.35355339 -0.35355339  0.35355339 -0.35355339  0.35355339 -0.35355339\n",
      "   0.35355339 -0.35355339]\n",
      " [ 0.35355339  0.35355339 -0.35355339 -0.35355339  0.35355339  0.35355339\n",
      "  -0.35355339 -0.35355339]\n",
      " [ 0.35355339 -0.35355339 -0.35355339  0.35355339  0.35355339 -0.35355339\n",
      "  -0.35355339  0.35355339]\n",
      " [ 0.35355339  0.35355339  0.35355339  0.35355339 -0.35355339 -0.35355339\n",
      "  -0.35355339 -0.35355339]\n",
      " [ 0.35355339 -0.35355339  0.35355339 -0.35355339 -0.35355339  0.35355339\n",
      "  -0.35355339  0.35355339]\n",
      " [ 0.35355339  0.35355339 -0.35355339 -0.35355339 -0.35355339 -0.35355339\n",
      "   0.35355339  0.35355339]\n",
      " [ 0.35355339 -0.35355339 -0.35355339  0.35355339 -0.35355339  0.35355339\n",
      "   0.35355339 -0.35355339]]\n",
      "[ 0.17677670+0.j  0.17677670+0.j  0.17677670+0.j  0.17677670+0.j\n",
      "  0.17677670+0.j  0.88388348+0.j  0.17677670+0.j  0.17677670+0.j]\n",
      "Iteration 1\n",
      "Oracle application\n",
      "Diffusion transform\n",
      "[[ 0.35355339  0.35355339  0.35355339  0.35355339  0.35355339  0.35355339\n",
      "   0.35355339  0.35355339]\n",
      " [ 0.35355339 -0.35355339  0.35355339 -0.35355339  0.35355339 -0.35355339\n",
      "   0.35355339 -0.35355339]\n",
      " [ 0.35355339  0.35355339 -0.35355339 -0.35355339  0.35355339  0.35355339\n",
      "  -0.35355339 -0.35355339]\n",
      " [ 0.35355339 -0.35355339 -0.35355339  0.35355339  0.35355339 -0.35355339\n",
      "  -0.35355339  0.35355339]\n",
      " [ 0.35355339  0.35355339  0.35355339  0.35355339 -0.35355339 -0.35355339\n",
      "  -0.35355339 -0.35355339]\n",
      " [ 0.35355339 -0.35355339  0.35355339 -0.35355339 -0.35355339  0.35355339\n",
      "  -0.35355339  0.35355339]\n",
      " [ 0.35355339  0.35355339 -0.35355339 -0.35355339 -0.35355339 -0.35355339\n",
      "   0.35355339  0.35355339]\n",
      " [ 0.35355339 -0.35355339 -0.35355339  0.35355339 -0.35355339  0.35355339\n",
      "   0.35355339 -0.35355339]]\n",
      "[[ 0.35355339  0.35355339  0.35355339  0.35355339  0.35355339  0.35355339\n",
      "   0.35355339  0.35355339]\n",
      " [ 0.35355339 -0.35355339  0.35355339 -0.35355339  0.35355339 -0.35355339\n",
      "   0.35355339 -0.35355339]\n",
      " [ 0.35355339  0.35355339 -0.35355339 -0.35355339  0.35355339  0.35355339\n",
      "  -0.35355339 -0.35355339]\n",
      " [ 0.35355339 -0.35355339 -0.35355339  0.35355339  0.35355339 -0.35355339\n",
      "  -0.35355339  0.35355339]\n",
      " [ 0.35355339  0.35355339  0.35355339  0.35355339 -0.35355339 -0.35355339\n",
      "  -0.35355339 -0.35355339]\n",
      " [ 0.35355339 -0.35355339  0.35355339 -0.35355339 -0.35355339  0.35355339\n",
      "  -0.35355339  0.35355339]\n",
      " [ 0.35355339  0.35355339 -0.35355339 -0.35355339 -0.35355339 -0.35355339\n",
      "   0.35355339  0.35355339]\n",
      " [ 0.35355339 -0.35355339 -0.35355339  0.35355339 -0.35355339  0.35355339\n",
      "   0.35355339 -0.35355339]]\n",
      "[-0.08838835+0.j -0.08838835+0.j -0.08838835+0.j -0.08838835+0.j\n",
      " -0.08838835+0.j  0.97227182+0.j -0.08838835+0.j -0.08838835+0.j]\n",
      "Measurement\n",
      "5\n"
     ]
    }
   ],
   "source": [
    "print \"Initializing ground state\"\n",
    "\n",
    "# Initialize ground state\n",
    "register = np.zeros((N_states), dtype=complex)\n",
    "register[0] = 1.0\n",
    "print register\n",
    "print \"Hadamar transformation\"\n",
    "register = hadamar(register)\n",
    "print register\n",
    "\n",
    "cycles = np.pi/4*np.sqrt(2**N_qubits)\n",
    "print \"Grover iteration cycles\", cycles\n",
    "\n",
    "for i in range(int(np.round(cycles))):\n",
    "\tprint \"Iteration\", i\n",
    "\n",
    "\tprint \"Oracle application\"\n",
    "\tregister = oracle(register)\n",
    "\t#print register\n",
    "\n",
    "\tprint \"Diffusion transform\"\n",
    "\tregister = hadamar(register)\n",
    "\tregister = conditional_phase_shift(register)\n",
    "\tregister = hadamar(register)\n",
    "\tprint register\n",
    "\n",
    "print \"Measurement\"\n",
    "print measure(register)"
   ]
  },
  {
   "cell_type": "markdown",
   "metadata": {},
   "source": [
    "## Simon's Algorithm"
   ]
  },
  {
   "cell_type": "markdown",
   "metadata": {},
   "source": [
    "Given a function\n",
    "$$f: \\{0,1\\}^n \\rightarrow \\{0,1\\}^n $$\n",
    "that is known to be invariant under some bitmask $a$, determine $a$.\n",
    "\n",
    "We start by initializing two quantum registers in the state $\\ket{0}$"
   ]
  },
  {
   "cell_type": "code",
   "execution_count": 37,
   "metadata": {
    "collapsed": false
   },
   "outputs": [],
   "source": [
    "N_qubits = 6\n",
    "N_states = 2**N_qubits"
   ]
  },
  {
   "cell_type": "code",
   "execution_count": 38,
   "metadata": {
    "collapsed": false
   },
   "outputs": [],
   "source": [
    "register = empty_register()"
   ]
  },
  {
   "cell_type": "code",
   "execution_count": 47,
   "metadata": {
    "collapsed": false
   },
   "outputs": [],
   "source": [
    "def str2state(string):\n",
    "    return int(string,2)\n",
    "def state2str(state):\n",
    "    return str(bin(state))[2:]"
   ]
  },
  {
   "cell_type": "markdown",
   "metadata": {},
   "source": [
    "The hadamar transform is applied to the first register to get an equal superposition of states in the quantum register."
   ]
  },
  {
   "cell_type": "code",
   "execution_count": 49,
   "metadata": {
    "collapsed": false
   },
   "outputs": [
    {
     "data": {
      "text/plain": [
       "array([ 0.35355339+0.j,  0.35355339+0.j,  0.35355339+0.j,  0.35355339+0.j,\n",
       "        0.35355339+0.j,  0.35355339+0.j,  0.35355339+0.j,  0.35355339+0.j,\n",
       "        0.00000000+0.j,  0.00000000+0.j,  0.00000000+0.j,  0.00000000+0.j,\n",
       "        0.00000000+0.j,  0.00000000+0.j,  0.00000000+0.j,  0.00000000+0.j,\n",
       "        0.00000000+0.j,  0.00000000+0.j,  0.00000000+0.j,  0.00000000+0.j,\n",
       "        0.00000000+0.j,  0.00000000+0.j,  0.00000000+0.j,  0.00000000+0.j,\n",
       "        0.00000000+0.j,  0.00000000+0.j,  0.00000000+0.j,  0.00000000+0.j,\n",
       "        0.00000000+0.j,  0.00000000+0.j,  0.00000000+0.j,  0.00000000+0.j,\n",
       "        0.00000000+0.j,  0.00000000+0.j,  0.00000000+0.j,  0.00000000+0.j,\n",
       "        0.00000000+0.j,  0.00000000+0.j,  0.00000000+0.j,  0.00000000+0.j,\n",
       "        0.00000000+0.j,  0.00000000+0.j,  0.00000000+0.j,  0.00000000+0.j,\n",
       "        0.00000000+0.j,  0.00000000+0.j,  0.00000000+0.j,  0.00000000+0.j,\n",
       "        0.00000000+0.j,  0.00000000+0.j,  0.00000000+0.j,  0.00000000+0.j,\n",
       "        0.00000000+0.j,  0.00000000+0.j,  0.00000000+0.j,  0.00000000+0.j,\n",
       "        0.00000000+0.j,  0.00000000+0.j,  0.00000000+0.j,  0.00000000+0.j,\n",
       "        0.00000000+0.j,  0.00000000+0.j,  0.00000000+0.j,  0.00000000+0.j])"
      ]
     },
     "execution_count": 49,
     "metadata": {},
     "output_type": "execute_result"
    }
   ],
   "source": [
    "register[:2**3] = 1/np.sqrt(8)\n",
    "register"
   ]
  },
  {
   "cell_type": "markdown",
   "metadata": {},
   "source": [
    "Next, the oracle is applied on both registers. It is implemented as a unitary transform, which performs the following calculation:\n",
    "\n",
    "$$\\mathcal O _{f(x)} = \\ket{x} \\ket{y} = \\ket{x} \\ket{f(x) \\oplus y} $$"
   ]
  },
  {
   "cell_type": "code",
   "execution_count": null,
   "metadata": {
    "collapsed": false
   },
   "outputs": [],
   "source": [
    "def simon_oracle(register0, register1):\n",
    "    table = {0:5, 1:2, 2:0, 3:5, 4:0, 5:6, 6:5, 7:2}\n",
    "    mask = 6\n",
    "    for state in range(N_states):\n",
    "        register1[state] = table[register0] ^ mask\n",
    "    return register0, register 1"
   ]
  }
 ],
 "metadata": {
  "kernelspec": {
   "display_name": "Python 2",
   "language": "python",
   "name": "python2"
  },
  "language_info": {
   "codemirror_mode": {
    "name": "ipython",
    "version": 2
   },
   "file_extension": ".py",
   "mimetype": "text/x-python",
   "name": "python",
   "nbconvert_exporter": "python",
   "pygments_lexer": "ipython2",
   "version": "2.7.10"
  }
 },
 "nbformat": 4,
 "nbformat_minor": 0
}
