{
 "cells": [
  {
   "cell_type": "markdown",
   "metadata": {},
   "source": [
    "# Quantum Machine Learning"
   ]
  },
  {
   "cell_type": "markdown",
   "metadata": {},
   "source": [
    "What do we mean when we talk about *quantum machine learning*? Und this term, algorithms and procedures are grouped that use quantum computation and quantum algorithms to speed up machine learning processes or parts of machine learning algorithms on a quantum computer.\n",
    "\n",
    "To faciliate machine learning on a quantum computer, we will here take the approach of using quantum algorithms to speed up the underlying linear algebraic calculations done in machine learning algorithms. \n",
    "\n",
    "In order to process the vectors and matrices on the quantum computer, they have to be encoded into quantum states. Efficient encodings can achieve an exponential compression. A vector $\\vec a \\in \\mathbb C^n$ can be encoded with $\\mathcal O (\\log n)$ qubits. Algorithms to encode these linear algebraic constucts into quantum memory are possible in $\\mathcal O(\\mathrm{polylog} (n))$, that is polynomic in the encoding size.\n",
    "\n",
    "The speed of the encoding algorithm depends on the memory model used by the quantum memory. There are suggested designs of quantum memories with classical memory, where encoding takes $\\mathcal O(n)$ steps since every bit has to be accessed individually. Quantum memories with a quantum memory component allow polylog encoding."
   ]
  },
  {
   "cell_type": "markdown",
   "metadata": {},
   "source": [
    "## Quantum Bits"
   ]
  },
  {
   "cell_type": "code",
   "execution_count": 1,
   "metadata": {
    "collapsed": true
   },
   "outputs": [],
   "source": [
    "import numpy as np\n",
    "import numpy.linalg as lg\n",
    "import numpy.random as random"
   ]
  },
  {
   "cell_type": "code",
   "execution_count": 34,
   "metadata": {
    "collapsed": false
   },
   "outputs": [
    {
     "name": "stdout",
     "output_type": "stream",
     "text": [
      "4\n"
     ]
    }
   ],
   "source": [
    "class QuantumRegister(object):\n",
    "    def __init__(self, n_qubits):\n",
    "        self.n_qubits = n_qubits\n",
    "        self.n_states = 2 ** n_qubits\n",
    "        self.qubits = np.zeros((self.n_states), dtype=complex)\n",
    "        self.qubits[0] = 1.0\n",
    "        \n",
    "    def isset(self, state, n):\n",
    "        return state & 1<<(self.n_qubits-1-n) != 0\n",
    "    \n",
    "    def flip(self, state, n):\n",
    "        return state ^ 1<<(self.n_qubits-1-n)\n",
    "    \n",
    "    def measure(self):\n",
    "        probabilities = np.absolute(self.qubits)**2\n",
    "        return random.choice(len(probabilities), p=probabilities.flatten())\n",
    "        \n",
    "    def hadamar(self):\n",
    "        hadamar = np.zeros((self.n_states, self.n_states))\n",
    "        for target in range(self.n_states):\n",
    "            for state in range(self.n_states):\n",
    "                hadamar[target, state] = (2.**(-self.n_qubits/2.))*(-1)**bin(state & target).count(\"1\")\n",
    "        self.qubits = hadamar.dot(self.qubits)\n",
    "        return self\n",
    "        \n",
    "register = QuantumRegister(3)\n",
    "register.hadamar()\n",
    "print register.measure()"
   ]
  },
  {
   "cell_type": "markdown",
   "metadata": {},
   "source": [
    "## Grover search"
   ]
  },
  {
   "cell_type": "code",
   "execution_count": 43,
   "metadata": {
    "collapsed": false
   },
   "outputs": [
    {
     "name": "stdout",
     "output_type": "stream",
     "text": [
      "5\n"
     ]
    }
   ],
   "source": [
    "class GroverRegister(QuantumRegister):\n",
    "    def conditional_phase_shift(self):\n",
    "        for state in range(1,self.n_states):\n",
    "            self.qubits[state] = -1 * self.qubits[state]\n",
    "        return self\n",
    "\n",
    "    def oracle(self):\n",
    "        correct_state = 5\n",
    "        self.qubits[correct_state] = -1 * self.qubits[correct_state]\n",
    "        return self\n",
    "    \n",
    "register = GroverRegister(3)\n",
    "register.hadamar()\n",
    "\n",
    "cycles = np.pi/4*np.sqrt(2**register.n_qubits)\n",
    "for i in range(int(np.round(cycles))):\n",
    "    register.oracle().hadamar().conditional_phase_shift().hadamar()\n",
    "print register.measure()"
   ]
  },
  {
   "cell_type": "markdown",
   "metadata": {},
   "source": [
    "## Quantum Memory: qRAM"
   ]
  },
  {
   "cell_type": "markdown",
   "metadata": {},
   "source": [
    "In random access memory, a randomly selected memory cell can be selected at will. The RAM takes the address of the cell as input (in the input register) and returns the contents of the cell (into the output register). Quantum random access memory, *qRAM*, is the quantum analog of traditional RAM required for large-scale quantum computers. QRAM supports superposition access to memory cells. If the input register holds a superposition of cells, the quantum memory will return a superposition of states as well. $\\newcommand{\\ket}[1]{\\left|{#1}\\right\\rangle} \\newcommand{\\bra}[1]{\\left\\langle{#1}\\right|}$\n",
    "\n",
    "$$ \\sum _j \\psi _j \\ket{j} _a \\rightarrow \\sum _j \\psi _j \\ket{j}_a \\ket{D_j}_d $$\n",
    "\n",
    "with address register $a$, data register $d$ and $D_j$ the content of the $j$th memory cell. "
   ]
  },
  {
   "cell_type": "markdown",
   "metadata": {},
   "source": [
    "Use cases for qRAM: Quantum random access memory is required for quantum Fourier transforms and quantum searches over classical data, therefore rendering them irreplaceable for quantum machine learning appliations."
   ]
  },
  {
   "cell_type": "markdown",
   "metadata": {},
   "source": [
    "### The cost of access"
   ]
  },
  {
   "cell_type": "markdown",
   "metadata": {},
   "source": [
    "For traditional RAM, stored in a one-dimensional lattice, access to the memory requires $\\mathcal O (N)$ interactions, where $N = 2^n$ is the number of memory slots and $n$ is the number of bits of the address register. A qRAM architecture based on so-called *bucket brigades* suggested by Giovannetti, Lloyd and Maccone achieves the retrieval of quantum informaion out of the memory in only $\\mathcal O (\\log N)$ steps."
   ]
  },
  {
   "cell_type": "markdown",
   "metadata": {},
   "source": [
    "### Simulating qRAM"
   ]
  },
  {
   "cell_type": "markdown",
   "metadata": {},
   "source": [
    "To simulate a quantum computer, the quantum random access memory will be implemented. The required size of the access register $a$ depends on the maximum number of (qu)bits $N$ stored in the quantum memory. The access register needs to be of size $n = \\log _2 N$. Equivalently, a data register $d$ of size $m$ can store $M = 2^m$ data points."
   ]
  },
  {
   "cell_type": "code",
   "execution_count": 9,
   "metadata": {
    "collapsed": false
   },
   "outputs": [
    {
     "name": "stdout",
     "output_type": "stream",
     "text": [
      "[ 1.+0.j  0.+0.j  0.+0.j  0.+0.j  0.+0.j  0.+0.j  0.+0.j  0.+0.j]\n",
      "[ 0.5+0.j  0.5+0.j  0.0+0.j  0.0+0.j  0.0+0.j  0.0+0.j  0.0+0.j  0.0+0.j]\n"
     ]
    }
   ],
   "source": [
    "import numpy as np\n",
    "\n",
    "class QRam(object):\n",
    "    def __init__(self, accessQubits, dataQubits): \n",
    "        self.accessQubits = accessQubits\n",
    "        self.dataQubits = dataQubits\n",
    "\n",
    "        self.accessStates = 2 ** accessQubits\n",
    "        self.dataStates = 2 ** dataQubits\n",
    "        \n",
    "        self.memory = np.zeros((self.accessStates, self.dataStates), dtype=complex)\n",
    "        \n",
    "    def retrieve(self, access): \n",
    "        out = np.zeros((self.dataStates,), dtype=complex)\n",
    "        for i in range(access.shape[0]):\n",
    "            out += access[i] ** 2 * self.memory[i,:]\n",
    "        return out\n",
    "    \n",
    "    def store(self, access, data):\n",
    "        assert access < self.accessStates\n",
    "        self.memory[access,:] = data\n",
    "\n",
    "qram = QRam(2, 3)\n",
    "\n",
    "qram.store(0, np.array([1., 0., 0., 0., 0., 0., 0., 0.]))\n",
    "qram.store(1, np.array([0., 1., 0., 0., 0., 0., 0., 0.]))\n",
    "\n",
    "print qram.retrieve(np.array([1., 0.,]))\n",
    "print qram.retrieve(np.array([1./np.sqrt(2), 1./np.sqrt(2)]))"
   ]
  },
  {
   "cell_type": "markdown",
   "metadata": {},
   "source": [
    "What are the advantages of qRAM? Take for example an $N$ dimensional complex vector. Only $\\log_2 N$ qubits are required for storing this vector in qRAM. The information is stored in the complex amplitudes of the state space of the vector. These are exponentially compressed quantum representations of the state vectors.\n",
    "\n",
    "Data in the quantum random access memory can by quantum algorithms be accessed in quantum parallel. The data can now be post-processed e.g. by using quantum Fourier transformation, matrix inversion or else. The creation of $QFT\\ket{v}$ or $f(A)\\ket{v}$ ($A$ a sparse Hermitian matrix, $f$ e.g. $f(A) = A^{-1}$). This post-processing takes $\\mathcal O (\\mathrm{poly} (\\log N))$ steps compared to classically necessary $\\mathcal O(\\mathrm{poly} N)$ steps."
   ]
  },
  {
   "cell_type": "markdown",
   "metadata": {},
   "source": [
    "## Linear Algebra Algorithms"
   ]
  },
  {
   "cell_type": "markdown",
   "metadata": {},
   "source": [
    "### Inner Product $\\vec v \\cdot \\vec w$"
   ]
  },
  {
   "cell_type": "markdown",
   "metadata": {},
   "source": [
    "Using the controlled swap algorithm, the inner product of two vector $\\vec v \\cdot \\vec w$ can be estimated. The vectors are stored in quantum memory.\n",
    "\n",
    "Retrieve from qRAM the vectors $v$ and $w$ in a superposition and do a Hadamar transform.\n",
    "\n",
    "$$ (\\alpha \\ket{0,x_0} + \\beta \\ket{1,x_1} ) \\rightarrow \\frac{1}{\\sqrt 2} (\\ket{0}\\ket{\\alpha x_0 + \\beta x_1} + \\ket{1}\\ket{\\alpha x_0 - \\beta x_1} ) $$\n",
    "\n",
    "The standard swap tests uses $\\alpha = \\beta = \\frac{1}{2}$, therefore we can measure the state $\\ket{0}$ with probability $(1+\\bra{x_0}\\ket{x_1}^2) / 2$\n",
    "\n",
    "#### Proof\n",
    "\n",
    "still missing..."
   ]
  },
  {
   "cell_type": "markdown",
   "metadata": {},
   "source": [
    "## General swap test"
   ]
  },
  {
   "cell_type": "code",
   "execution_count": null,
   "metadata": {
    "collapsed": true
   },
   "outputs": [],
   "source": []
  }
 ],
 "metadata": {
  "kernelspec": {
   "display_name": "Python 2",
   "language": "python",
   "name": "python2"
  },
  "language_info": {
   "codemirror_mode": {
    "name": "ipython",
    "version": 2
   },
   "file_extension": ".py",
   "mimetype": "text/x-python",
   "name": "python",
   "nbconvert_exporter": "python",
   "pygments_lexer": "ipython2",
   "version": "2.7.10"
  }
 },
 "nbformat": 4,
 "nbformat_minor": 0
}
