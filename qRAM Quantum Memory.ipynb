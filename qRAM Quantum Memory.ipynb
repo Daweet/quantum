{
 "cells": [
  {
   "cell_type": "markdown",
   "metadata": {},
   "source": [
    "# Quantum Machine Learning"
   ]
  },
  {
   "cell_type": "markdown",
   "metadata": {},
   "source": [
    "What do we mean when we talk about *quantum machine learning*? Und this term, algorithms and procedures are grouped that use quantum computation and quantum algorithms to speed up machine learning processes or parts of machine learning algorithms on a quantum computer."
   ]
  },
  {
   "cell_type": "markdown",
   "metadata": {},
   "source": [
    "## Quantum Memory: qRAM"
   ]
  },
  {
   "cell_type": "markdown",
   "metadata": {},
   "source": [
    "In random access memory, a randomly selected memory cell can be selected at will. The RAM takes the address of the cell as input (in the input register) and returns the contents of the cell (into the output register). Quantum random access memory, *qRAM*, is the quantum analog of traditional RAM required for large-scale quantum computers. QRAM supports superposition access to memory cells. If the input register holds a superposition of cells, the quantum memory will return a superposition of states as well. $\\newcommand{\\ket}[1]{\\left|{#1}\\right\\rangle} \\newcommand{\\bra}[1]{\\left\\langle{#1}\\right|}$\n",
    "\n",
    "$$ \\sum _j \\psi _j \\ket{j} _a \\rightarrow \\sum _j \\psi _j \\ket{j}_a \\ket{D_j}_d $$\n",
    "\n",
    "with address register $a$, data register $d$ and $D_j$ the content of the $j$th memory cell. "
   ]
  },
  {
   "cell_type": "markdown",
   "metadata": {},
   "source": [
    "Use cases for qRAM: Quantum random access memory is required for quantum Fourier transforms and quantum searches over classical data, therefore rendering them irreplaceable for quantum machine learning appliations."
   ]
  },
  {
   "cell_type": "markdown",
   "metadata": {},
   "source": [
    "### The cost of access"
   ]
  },
  {
   "cell_type": "markdown",
   "metadata": {},
   "source": [
    "For traditional RAM, stored in a one-dimensional lattice, access to the memory requires $\\mathcal O (N)$ interactions, where $N = 2^n$ is the number of memory slots and $n$ is the number of bits of the address register. A qRAM architecture based on so-called *bucket brigades* suggested by Giovannetti, Lloyd and Maccone achieves the retrieval of quantum informaion out of the memory in only $\\mathcal O (\\log N)$ steps."
   ]
  },
  {
   "cell_type": "markdown",
   "metadata": {},
   "source": [
    "### Simulating qRAM"
   ]
  },
  {
   "cell_type": "markdown",
   "metadata": {},
   "source": [
    "To simulate a quantum computer, the quantum random access memory will be implemented. The required size of the access register $a$ depends on the maximum number of (qu)bits $N$ stored in the quantum memory. The access register needs to be of size $n = \\log _2 N$. Equivalently, a data register $d$ of size $m$ can store $M = 2^m$ data points."
   ]
  },
  {
   "cell_type": "code",
   "execution_count": 22,
   "metadata": {
    "collapsed": false
   },
   "outputs": [
    {
     "name": "stdout",
     "output_type": "stream",
     "text": [
      "[ 1.+0.j  0.+0.j  0.+0.j  0.+0.j  0.+0.j  0.+0.j  0.+0.j  0.+0.j]\n",
      "[ 0.5+0.j  0.5+0.j  0.0+0.j  0.0+0.j  0.0+0.j  0.0+0.j  0.0+0.j  0.0+0.j]\n"
     ]
    }
   ],
   "source": [
    "import numpy as np\n",
    "\n",
    "class QRam(object):\n",
    "    def __init__(self, accessQubits, dataQubits): \n",
    "        self.accessQubits = accessQubits\n",
    "        self.dataQubits = dataQubits\n",
    "\n",
    "        self.accessStates = 2 ** accessQubits\n",
    "        self.dataStates = 2 ** dataQubits\n",
    "        \n",
    "        self.memory = np.zeros((self.accessStates, self.dataStates), dtype=complex)\n",
    "        \n",
    "    def retrieve(self, access): \n",
    "        out = np.zeros((dataStates,), dtype=complex)\n",
    "        for i in range(access.shape[0]):\n",
    "            out += access[i] ** 2 * self.memory[i,:]\n",
    "        return out\n",
    "    \n",
    "    def store(self, access, data):\n",
    "        assert access < self.accessStates\n",
    "        self.memory[access,:] = data\n",
    "\n",
    "qram = QRam(2, 3)\n",
    "\n",
    "qram.store(0, np.array([1., 0., 0., 0., 0., 0., 0., 0.]))\n",
    "qram.store(1, np.array([0., 1., 0., 0., 0., 0., 0., 0.]))\n",
    "\n",
    "print qram.retrieve(np.array([1., 0.,]))\n",
    "print qram.retrieve(np.array([1./np.sqrt(2), 1./np.sqrt(2)]))"
   ]
  },
  {
   "cell_type": "markdown",
   "metadata": {},
   "source": [
    "What are the advantages of qRAM? Take for example an $N$ dimensional complex vector. Only $\\log_2 N$ qubits are required for storing this vector in qRAM. The information is stored in the complex amplitudes of the state space of the vector. These are exponentially compressed quantum representations of the state vectors.\n",
    "\n",
    "Data in the quantum random access memory can by quantum algorithms be accessed in quantum parallel. The data can now be post-processed e.g. by using quantum Fourier transformation, matrix inversion or else. The creation of $QFT\\ket{v}$ or $f(A)\\ket{v}$ ($A$ a sparse Hermitian matrix, $f$ e.g. $f(A) = A^{-1}$). This post-processing takes $\\mathcal O (\\mathrm{poly} (\\log N))$ steps compared to classically necessary $\\mathcal O(\\mathrm{poly} N)$ steps."
   ]
  }
 ],
 "metadata": {
  "kernelspec": {
   "display_name": "Python 2",
   "language": "python",
   "name": "python2"
  },
  "language_info": {
   "codemirror_mode": {
    "name": "ipython",
    "version": 2
   },
   "file_extension": ".py",
   "mimetype": "text/x-python",
   "name": "python",
   "nbconvert_exporter": "python",
   "pygments_lexer": "ipython2",
   "version": "2.7.10"
  }
 },
 "nbformat": 4,
 "nbformat_minor": 0
}
