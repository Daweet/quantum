{
 "metadata": {
  "name": "",
  "signature": "sha256:1de564cbe5413622b04c0bc5d19509581fb9f7f1d2d65c40a7c21fc9ebb2bd83"
 },
 "nbformat": 3,
 "nbformat_minor": 0,
 "worksheets": [
  {
   "cells": [
    {
     "cell_type": "heading",
     "level": 1,
     "metadata": {},
     "source": [
      "Simulating a Quantum Computer in Python"
     ]
    },
    {
     "cell_type": "code",
     "collapsed": false,
     "input": [
      "import numpy as np\n",
      "import numpy.linalg as lg\n",
      "import numpy.random as random"
     ],
     "language": "python",
     "metadata": {},
     "outputs": [],
     "prompt_number": 2
    },
    {
     "cell_type": "code",
     "collapsed": false,
     "input": [
      "N_qubits = 3\n",
      "N_states = 2**N_qubits"
     ],
     "language": "python",
     "metadata": {},
     "outputs": [],
     "prompt_number": 3
    },
    {
     "cell_type": "markdown",
     "metadata": {},
     "source": [
      "Create a quantum register"
     ]
    },
    {
     "cell_type": "code",
     "collapsed": false,
     "input": [
      "def empty_register():\n",
      "    return np.zeros((N_states), dtype=complex)"
     ],
     "language": "python",
     "metadata": {},
     "outputs": [],
     "prompt_number": 21
    },
    {
     "cell_type": "code",
     "collapsed": false,
     "input": [
      "register = empty_register()\n",
      "register"
     ],
     "language": "python",
     "metadata": {},
     "outputs": [
      {
       "metadata": {},
       "output_type": "pyout",
       "prompt_number": 22,
       "text": [
        "array([ 0.+0.j,  0.+0.j,  0.+0.j,  0.+0.j,  0.+0.j,  0.+0.j,  0.+0.j,\n",
        "        0.+0.j])"
       ]
      }
     ],
     "prompt_number": 22
    },
    {
     "cell_type": "markdown",
     "metadata": {},
     "source": [
      "$\\newcommand{\\ket}[1]{\\left|{#1}\\right\\rangle}\\newcommand{\\bra}[1]{\\left\\langle{#1}\\right|}$\n",
      "The states of our 3-qubit quantum register are $\\ket{000}$, $\\ket{001}$, $\\ket{010}$, ..., which we will address as state 0, 1,  2, ...\n",
      "\n",
      "We define two helper functions. The first one checks if a certain qubit is set to $1$ in a state. The second one flips a target qubit from $0$ to $1$ or from $1$ to $0$. In the $\\ket{011}$ notation, the 0-th qubit is the leftmost one, the $N_{qubit}-1$-th qubit is the rightmost one."
     ]
    },
    {
     "cell_type": "code",
     "collapsed": false,
     "input": [
      "def isset(state, n):\n",
      "\treturn state & 1<<(N_qubits-1-n) != 0\n",
      "\n",
      "def flip(state, n):\n",
      "\treturn state ^ 1<<(N_qubits-1-n)"
     ],
     "language": "python",
     "metadata": {},
     "outputs": [],
     "prompt_number": 5
    },
    {
     "cell_type": "code",
     "collapsed": false,
     "input": [
      "print bin(1)\n",
      "isset(1,2)"
     ],
     "language": "python",
     "metadata": {},
     "outputs": [
      {
       "output_type": "stream",
       "stream": "stdout",
       "text": [
        "0b1\n"
       ]
      },
      {
       "metadata": {},
       "output_type": "pyout",
       "prompt_number": 6,
       "text": [
        "True"
       ]
      }
     ],
     "prompt_number": 6
    },
    {
     "cell_type": "code",
     "collapsed": false,
     "input": [
      "isset(flip(8,2),2)"
     ],
     "language": "python",
     "metadata": {},
     "outputs": [
      {
       "metadata": {},
       "output_type": "pyout",
       "prompt_number": 7,
       "text": [
        "True"
       ]
      }
     ],
     "prompt_number": 7
    },
    {
     "cell_type": "code",
     "collapsed": false,
     "input": [
      "def measure(register):\n",
      "\tregister = np.absolute(register)**2\n",
      "\treturn random.choice(len(register), p=register.flatten())"
     ],
     "language": "python",
     "metadata": {},
     "outputs": [],
     "prompt_number": 8
    },
    {
     "cell_type": "code",
     "collapsed": false,
     "input": [
      "def hadamar(register):\n",
      "\tH_2x2 = np.array([[1,1],[1,-1]]) / np.sqrt(2)\n",
      "\tH = np.array([[1,1],[1,-1]]) / np.sqrt(2)\n",
      "\tfor i in range(N_qubits-1):\n",
      "\t\tH = np.kron(H,H_2x2)\n",
      "\treturn H.dot(register)"
     ],
     "language": "python",
     "metadata": {},
     "outputs": [],
     "prompt_number": 9
    },
    {
     "cell_type": "code",
     "collapsed": false,
     "input": [
      "def cnot(register, control, target):\n",
      "\tCNOT = np.zeros((N_states, N_states))\n",
      "\tfor state in range(N_states):\n",
      "\t\tif isset(state, control): # control state set to 1\n",
      "\t\t\ttarget_state = flip(state, target) # flip target bit\n",
      "\t\telse:\n",
      "\t\t\ttarget_state = state\n",
      "\t\tCNOT[target_state, state] = 1\n",
      "\treturn CNOT.dot(register)"
     ],
     "language": "python",
     "metadata": {},
     "outputs": [],
     "prompt_number": 10
    },
    {
     "cell_type": "code",
     "collapsed": false,
     "input": [
      "def pauli_x(register, target):\n",
      "\tfor state in range(N_states):\n",
      "\t\tif isset(state, target):\n",
      "\t\t\tconjugated_state = flip(state, target)\n",
      "\t\t\ttmp = register[state]\n",
      "\t\t\tregister[state] = register[conjugated_state]\n",
      "\t\t\tregister[conjugated_state] = tmp\n",
      "\treturn register"
     ],
     "language": "python",
     "metadata": {},
     "outputs": [],
     "prompt_number": 11
    },
    {
     "cell_type": "code",
     "collapsed": false,
     "input": [
      "def pauli_y(register, target):\n",
      "\tfor state in range(N_states):\n",
      "\t\tif isset(state, target):\n",
      "\t\t\tconjugated_state = flip(state, target)\n",
      "\t\t\ttmp = register[state]\n",
      "\t\t\tregister[state] = -1j * register[conjugated_state]\n",
      "\t\t\tregister[conjugated_state] = 1j * tmp\n",
      "\treturn register"
     ],
     "language": "python",
     "metadata": {},
     "outputs": [],
     "prompt_number": 12
    },
    {
     "cell_type": "code",
     "collapsed": false,
     "input": [
      "def pauli_z(register, target):\n",
      "\tfor state in range(N_states):\n",
      "\t\tif isset(state, target):\n",
      "\t\t\tregister[state] = -1 * register[state]\n",
      "\treturn register"
     ],
     "language": "python",
     "metadata": {},
     "outputs": [],
     "prompt_number": 13
    },
    {
     "cell_type": "code",
     "collapsed": false,
     "input": [
      "def phase_shift(register, target, phase):\n",
      "\tfor state in range(N_states):\n",
      "\t\tif isset(state, target):\n",
      "\t\t\tregister[state] = np.exp(-1j*phase) * register[state]\n",
      "\treturn register"
     ],
     "language": "python",
     "metadata": {},
     "outputs": [],
     "prompt_number": 14
    },
    {
     "cell_type": "code",
     "collapsed": false,
     "input": [
      "def phase(register, target):\n",
      "\tfor state in range(N_states):\n",
      "\t\tif isset(state, target):\n",
      "\t\t\tregister[state] = 1j * register[state]\n",
      "\treturn register"
     ],
     "language": "python",
     "metadata": {},
     "outputs": [],
     "prompt_number": 15
    },
    {
     "cell_type": "heading",
     "level": 2,
     "metadata": {},
     "source": [
      "Groover Algorithm"
     ]
    },
    {
     "cell_type": "code",
     "collapsed": false,
     "input": [
      "def conditional_phase_shift(register):\n",
      "\tfor state in range(1,N_states):\n",
      "\t\tregister[state] = -1 * register[state]\n",
      "\treturn register"
     ],
     "language": "python",
     "metadata": {},
     "outputs": [],
     "prompt_number": 16
    },
    {
     "cell_type": "markdown",
     "metadata": {},
     "source": [
      "The oracle function is a unitary transformation which shifts the specific of the seeked state by 2\u03c0. Applying the oracle to a register with equally distributed real and positive amplitudes will therefore switch the sign of one of the states. Note that the specific probabilities of the states do not change since they are related to the squared amplitues."
     ]
    },
    {
     "cell_type": "code",
     "collapsed": false,
     "input": [
      "def oracle(register):\n",
      "\tcorrect_state = 5\n",
      "\tregister[correct_state] = -1 * register[correct_state]\n",
      "\treturn register"
     ],
     "language": "python",
     "metadata": {},
     "outputs": [],
     "prompt_number": 17
    },
    {
     "cell_type": "code",
     "collapsed": false,
     "input": [
      "print \"Initializing ground state\"\n",
      "\n",
      "# Initialize ground state\n",
      "register = np.zeros((N_states), dtype=complex)\n",
      "register[0] = 1.0\n",
      "print register\n",
      "print \"Hadamar transformation\"\n",
      "register = hadamar(register)\n",
      "#print register\n",
      "\n",
      "cycles = np.pi/4*np.sqrt(2**N_qubits)\n",
      "print \"Grover iteration cycles\", cycles\n",
      "\n",
      "for i in range(int(np.round(cycles))):\n",
      "\tprint \"Iteration\", i\n",
      "\n",
      "\tprint \"Oracle application\"\n",
      "\tregister = oracle(register)\n",
      "\t#print register\n",
      "\n",
      "\tprint \"Diffusion transform\"\n",
      "\tregister = hadamar(register)\n",
      "\tregister = conditional_phase_shift(register)\n",
      "\tregister = hadamar(register)\n",
      "\tprint register\n",
      "\n",
      "print \"Measurement\"\n",
      "print measure(register)"
     ],
     "language": "python",
     "metadata": {},
     "outputs": [
      {
       "output_type": "stream",
       "stream": "stdout",
       "text": [
        "Initializing ground state\n",
        "[ 1.+0.j  0.+0.j  0.+0.j  0.+0.j  0.+0.j  0.+0.j  0.+0.j  0.+0.j]\n",
        "Hadamar transformation\n",
        "Grover iteration cycles 2.22144146908\n",
        "Iteration 0\n",
        "Oracle application\n",
        "Diffusion transform\n",
        "[ 0.17677670+0.j  0.17677670+0.j  0.17677670+0.j  0.17677670+0.j\n",
        "  0.17677670+0.j  0.88388348+0.j  0.17677670+0.j  0.17677670+0.j]\n",
        "Iteration 1\n",
        "Oracle application\n",
        "Diffusion transform\n",
        "[-0.08838835+0.j -0.08838835+0.j -0.08838835+0.j -0.08838835+0.j\n",
        " -0.08838835+0.j  0.97227182+0.j -0.08838835+0.j -0.08838835+0.j]\n",
        "Measurement\n",
        "5\n"
       ]
      }
     ],
     "prompt_number": 20
    },
    {
     "cell_type": "heading",
     "level": 2,
     "metadata": {},
     "source": [
      "Simon's Algorithm"
     ]
    },
    {
     "cell_type": "markdown",
     "metadata": {},
     "source": [
      "Given a function\n",
      "$$f: \\{0,1\\}^n \\rightarrow \\{0,1\\}^n $$\n",
      "that is known to be invariant under some bitmask $a$, determine $a$.\n",
      "\n",
      "We start by initializing two quantum registers in the state $\\ket{0}$"
     ]
    },
    {
     "cell_type": "code",
     "collapsed": false,
     "input": [
      "N_qubits = 6\n",
      "N_states = 2**N_qubits"
     ],
     "language": "python",
     "metadata": {},
     "outputs": [],
     "prompt_number": 37
    },
    {
     "cell_type": "code",
     "collapsed": false,
     "input": [
      "register = empty_register()"
     ],
     "language": "python",
     "metadata": {},
     "outputs": [],
     "prompt_number": 38
    },
    {
     "cell_type": "code",
     "collapsed": false,
     "input": [
      "def str2state(string):\n",
      "    return int(string,2)\n",
      "def state2str(state):\n",
      "    return str(bin(state))[2:]"
     ],
     "language": "python",
     "metadata": {},
     "outputs": [],
     "prompt_number": 47
    },
    {
     "cell_type": "markdown",
     "metadata": {},
     "source": [
      "The hadamar transform is applied to the first register to get an equal superposition of states in the quantum register."
     ]
    },
    {
     "cell_type": "code",
     "collapsed": false,
     "input": [
      "register[:2**3] = 1/np.sqrt(8)\n",
      "register"
     ],
     "language": "python",
     "metadata": {},
     "outputs": [
      {
       "metadata": {},
       "output_type": "pyout",
       "prompt_number": 49,
       "text": [
        "array([ 0.35355339+0.j,  0.35355339+0.j,  0.35355339+0.j,  0.35355339+0.j,\n",
        "        0.35355339+0.j,  0.35355339+0.j,  0.35355339+0.j,  0.35355339+0.j,\n",
        "        0.00000000+0.j,  0.00000000+0.j,  0.00000000+0.j,  0.00000000+0.j,\n",
        "        0.00000000+0.j,  0.00000000+0.j,  0.00000000+0.j,  0.00000000+0.j,\n",
        "        0.00000000+0.j,  0.00000000+0.j,  0.00000000+0.j,  0.00000000+0.j,\n",
        "        0.00000000+0.j,  0.00000000+0.j,  0.00000000+0.j,  0.00000000+0.j,\n",
        "        0.00000000+0.j,  0.00000000+0.j,  0.00000000+0.j,  0.00000000+0.j,\n",
        "        0.00000000+0.j,  0.00000000+0.j,  0.00000000+0.j,  0.00000000+0.j,\n",
        "        0.00000000+0.j,  0.00000000+0.j,  0.00000000+0.j,  0.00000000+0.j,\n",
        "        0.00000000+0.j,  0.00000000+0.j,  0.00000000+0.j,  0.00000000+0.j,\n",
        "        0.00000000+0.j,  0.00000000+0.j,  0.00000000+0.j,  0.00000000+0.j,\n",
        "        0.00000000+0.j,  0.00000000+0.j,  0.00000000+0.j,  0.00000000+0.j,\n",
        "        0.00000000+0.j,  0.00000000+0.j,  0.00000000+0.j,  0.00000000+0.j,\n",
        "        0.00000000+0.j,  0.00000000+0.j,  0.00000000+0.j,  0.00000000+0.j,\n",
        "        0.00000000+0.j,  0.00000000+0.j,  0.00000000+0.j,  0.00000000+0.j,\n",
        "        0.00000000+0.j,  0.00000000+0.j,  0.00000000+0.j,  0.00000000+0.j])"
       ]
      }
     ],
     "prompt_number": 49
    },
    {
     "cell_type": "markdown",
     "metadata": {},
     "source": [
      "Next, the oracle is applied on both registers. It is implemented as a unitary transform, which performs the following calculation:\n",
      "\n",
      "$$\\mathcal O _{f(x)} = \\ket{x} \\ket{y} = \\ket{x} \\ket{f(x) \\oplus y} $$"
     ]
    },
    {
     "cell_type": "code",
     "collapsed": false,
     "input": [
      "def simon_oracle(register0, register1):\n",
      "    table = {0:5, 1:2, 2:0, 3:5, 4:0, 5:6, 6:5, 7:2}\n",
      "    mask = 6\n",
      "    for state in range(N_states):\n",
      "        register1[state] = table[register0] ^ mask\n",
      "    return register0, register 1"
     ],
     "language": "python",
     "metadata": {},
     "outputs": []
    }
   ],
   "metadata": {}
  }
 ]
}